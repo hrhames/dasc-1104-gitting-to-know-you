{
  "nbformat": 4,
  "nbformat_minor": 0,
  "metadata": {
    "colab": {
      "provenance": [],
      "authorship_tag": "ABX9TyOQpDun9ycjSggU/22zFp14",
      "include_colab_link": true
    },
    "kernelspec": {
      "name": "python3",
      "display_name": "Python 3"
    },
    "language_info": {
      "name": "python"
    }
  },
  "cells": [
    {
      "cell_type": "markdown",
      "metadata": {
        "id": "view-in-github",
        "colab_type": "text"
      },
      "source": [
        "<a href=\"https://colab.research.google.com/github/hrhames/dasc-1104-gitting-to-know-you/blob/main/Untitled14.ipynb\" target=\"_parent\"><img src=\"https://colab.research.google.com/assets/colab-badge.svg\" alt=\"Open In Colab\"/></a>"
      ]
    },
    {
      "cell_type": "markdown",
      "source": [
        "# New Section"
      ],
      "metadata": {
        "id": "Gk-dz-DE4F_a"
      }
    },
    {
      "cell_type": "code",
      "source": [
        "!pip install gpxcsv"
      ],
      "metadata": {
        "colab": {
          "base_uri": "https://localhost:8080/"
        },
        "id": "mT4MC8l05kcg",
        "outputId": "01e8645c-67b3-4ed1-b974-1adecdf95e16"
      },
      "execution_count": 1,
      "outputs": [
        {
          "output_type": "stream",
          "name": "stdout",
          "text": [
            "Collecting gpxcsv\n",
            "  Downloading gpxcsv-0.2.15-py3-none-any.whl (9.5 kB)\n",
            "Requirement already satisfied: lxml in /usr/local/lib/python3.10/dist-packages (from gpxcsv) (4.9.3)\n",
            "Installing collected packages: gpxcsv\n",
            "Successfully installed gpxcsv-0.2.15\n"
          ]
        }
      ]
    },
    {
      "cell_type": "code",
      "source": [
        "from gpxcsv import gpxtolist"
      ],
      "metadata": {
        "id": "FOC1zvn45r8x"
      },
      "execution_count": 3,
      "outputs": []
    },
    {
      "cell_type": "code",
      "source": [
        "raw_data = gpxtolist(\"Chile_Pepper_10k.gpx\")"
      ],
      "metadata": {
        "id": "hlsByA4R6DBX"
      },
      "execution_count": 5,
      "outputs": []
    },
    {
      "cell_type": "code",
      "source": [
        "raw_data[0]"
      ],
      "metadata": {
        "colab": {
          "base_uri": "https://localhost:8080/"
        },
        "id": "9PZK0h7V6PwC",
        "outputId": "b33e5540-c0e5-4e55-baae-87dc396c73df"
      },
      "execution_count": 7,
      "outputs": [
        {
          "output_type": "execute_result",
          "data": {
            "text/plain": [
              "{'lat': 36.09798,\n",
              " 'lon': -94.163898,\n",
              " 'hr': 91.0,\n",
              " 'cad': 0.0,\n",
              " 'name': 'Chile Pepper 10k',\n",
              " 'type': 'running',\n",
              " 'ele': 377.8,\n",
              " 'time': '2023-09-30T12:30:37Z'}"
            ]
          },
          "metadata": {},
          "execution_count": 7
        }
      ]
    },
    {
      "cell_type": "code",
      "source": [],
      "metadata": {
        "id": "BTX_dXCM7MMk"
      },
      "execution_count": null,
      "outputs": []
    }
  ]
}